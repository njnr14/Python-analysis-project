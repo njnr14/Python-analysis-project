{
  "nbformat": 4,
  "nbformat_minor": 0,
  "metadata": {
    "colab": {
      "provenance": [],
      "authorship_tag": "ABX9TyNRmLDUpv00r6MXidQAqkpM",
      "include_colab_link": true
    },
    "kernelspec": {
      "name": "python3",
      "display_name": "Python 3"
    },
    "language_info": {
      "name": "python"
    }
  },
  "cells": [
    {
      "cell_type": "markdown",
      "metadata": {
        "id": "view-in-github",
        "colab_type": "text"
      },
      "source": [
        "<a href=\"https://colab.research.google.com/github/njnr14/Python-analysis-project/blob/main/analysis.ipynb\" target=\"_parent\"><img src=\"https://colab.research.google.com/assets/colab-badge.svg\" alt=\"Open In Colab\"/></a>"
      ]
    },
    {
      "cell_type": "code",
      "execution_count": 2,
      "metadata": {
        "colab": {
          "base_uri": "https://localhost:8080/"
        },
        "id": "vuQu08-ZLStb",
        "outputId": "14cc2cae-f341-4abb-b478-7130e6dfe28b"
      },
      "outputs": [
        {
          "output_type": "stream",
          "name": "stdout",
          "text": [
            "fatal: destination path 'Python-analysis-project' already exists and is not an empty directory.\n"
          ]
        }
      ],
      "source": [
        "!git clone https://github.com/njnr14/Python-analysis-project.git"
      ]
    },
    {
      "cell_type": "code",
      "source": [
        "import numpy as np\n",
        "import pandas as pd\n",
        "import matplotlib.pyplot as plt\n",
        "import seaborn as sns\n",
        "\n",
        "path=\"/content/Python-analysis-project/Shipping-data.xlsx\"\n",
        "\n",
        "df=pd.read_excel(path)\n",
        "\n",
        "print(df.head(10))"
      ],
      "metadata": {
        "colab": {
          "base_uri": "https://localhost:8080/"
        },
        "id": "Q8Z4EvY8L3SO",
        "outputId": "8af7278a-3488-405e-80e6-7162a00ee6a0"
      },
      "execution_count": 8,
      "outputs": [
        {
          "output_type": "stream",
          "name": "stdout",
          "text": [
            "   ID Warehouse_block Mode_of_Shipment  Customer_care_calls  Customer_rating  \\\n",
            "0   1               D           Flight                    4                2   \n",
            "1   2               F           Flight                    4                5   \n",
            "2   3               A           Flight                    2                2   \n",
            "3   4               B           Flight                    3                3   \n",
            "4   5               C           Flight                    2                2   \n",
            "5   6               F           Flight                    3                1   \n",
            "6   7               D           Flight                    3                4   \n",
            "7   8               F           Flight                    4                1   \n",
            "8   9               A           Flight                    3                4   \n",
            "9  10               B           Flight                    3                2   \n",
            "\n",
            "   Cost_of_the_Product  Prior_purchases Product_importance Gender  \\\n",
            "0                  177                3                low      F   \n",
            "1                  216                2                low      M   \n",
            "2                  183                4                low      M   \n",
            "3                  176                4             medium      M   \n",
            "4                  184                3             medium      F   \n",
            "5                  162                3             medium      F   \n",
            "6                  250                3                low      F   \n",
            "7                  233                2                low      F   \n",
            "8                  150                3                low      F   \n",
            "9                  164                3             medium      F   \n",
            "\n",
            "   Discount_offered  Weight_in_gms  Reached.on.Time_Y.N  \n",
            "0                44           1233                    1  \n",
            "1                59           3088                    1  \n",
            "2                48           3374                    1  \n",
            "3                10           1177                    1  \n",
            "4                46           2484                    1  \n",
            "5                12           1417                    1  \n",
            "6                 3           2371                    1  \n",
            "7                48           2804                    1  \n",
            "8                11           1861                    1  \n",
            "9                29           1187                    1  \n"
          ]
        }
      ]
    },
    {
      "cell_type": "code",
      "source": [
        "print(df.info())"
      ],
      "metadata": {
        "colab": {
          "base_uri": "https://localhost:8080/"
        },
        "id": "ICRj-13SM1jV",
        "outputId": "33635a2b-2ff5-40bf-dbca-55449f62c7ed"
      },
      "execution_count": 9,
      "outputs": [
        {
          "output_type": "stream",
          "name": "stdout",
          "text": [
            "<class 'pandas.core.frame.DataFrame'>\n",
            "RangeIndex: 10999 entries, 0 to 10998\n",
            "Data columns (total 12 columns):\n",
            " #   Column               Non-Null Count  Dtype \n",
            "---  ------               --------------  ----- \n",
            " 0   ID                   10999 non-null  int64 \n",
            " 1   Warehouse_block      10999 non-null  object\n",
            " 2   Mode_of_Shipment     10999 non-null  object\n",
            " 3   Customer_care_calls  10999 non-null  int64 \n",
            " 4   Customer_rating      10999 non-null  int64 \n",
            " 5   Cost_of_the_Product  10999 non-null  int64 \n",
            " 6   Prior_purchases      10999 non-null  int64 \n",
            " 7   Product_importance   10999 non-null  object\n",
            " 8   Gender               10999 non-null  object\n",
            " 9   Discount_offered     10999 non-null  int64 \n",
            " 10  Weight_in_gms        10999 non-null  int64 \n",
            " 11  Reached.on.Time_Y.N  10999 non-null  int64 \n",
            "dtypes: int64(8), object(4)\n",
            "memory usage: 1.0+ MB\n",
            "None\n"
          ]
        }
      ]
    },
    {
      "cell_type": "code",
      "source": [
        "print(df.describe())"
      ],
      "metadata": {
        "colab": {
          "base_uri": "https://localhost:8080/"
        },
        "id": "zyDzX8bZM_5a",
        "outputId": "cd83ff0b-531e-464a-8981-5661e1747dfb"
      },
      "execution_count": 10,
      "outputs": [
        {
          "output_type": "stream",
          "name": "stdout",
          "text": [
            "                ID  Customer_care_calls  Customer_rating  Cost_of_the_Product  \\\n",
            "count  10999.00000         10999.000000     10999.000000         10999.000000   \n",
            "mean    5500.00000             4.054459         2.990545           210.196836   \n",
            "std     3175.28214             1.141490         1.413603            48.063272   \n",
            "min        1.00000             2.000000         1.000000            96.000000   \n",
            "25%     2750.50000             3.000000         2.000000           169.000000   \n",
            "50%     5500.00000             4.000000         3.000000           214.000000   \n",
            "75%     8249.50000             5.000000         4.000000           251.000000   \n",
            "max    10999.00000             7.000000         5.000000           310.000000   \n",
            "\n",
            "       Prior_purchases  Discount_offered  Weight_in_gms  Reached.on.Time_Y.N  \n",
            "count     10999.000000      10999.000000   10999.000000         10999.000000  \n",
            "mean          3.567597         13.373216    3634.016729             0.596691  \n",
            "std           1.522860         16.205527    1635.377251             0.490584  \n",
            "min           2.000000          1.000000    1001.000000             0.000000  \n",
            "25%           3.000000          4.000000    1839.500000             0.000000  \n",
            "50%           3.000000          7.000000    4149.000000             1.000000  \n",
            "75%           4.000000         10.000000    5050.000000             1.000000  \n",
            "max          10.000000         65.000000    7846.000000             1.000000  \n"
          ]
        }
      ]
    },
    {
      "cell_type": "markdown",
      "source": [
        "Average weight of each shipment from each warehouse "
      ],
      "metadata": {
        "id": "lUCqwM6aXlri"
      }
    },
    {
      "cell_type": "code",
      "source": [
        "avr_W=df.groupby(['Warehouse_block'])['Weight_in_gms'].mean()\n",
        "axes=plt.axes()\n",
        "axes.set_ylim(3000,3700,200)\n",
        "plt.bar(df['Warehouse_block'].unique(),avr_W)\n"
      ],
      "metadata": {
        "colab": {
          "base_uri": "https://localhost:8080/",
          "height": 507
        },
        "id": "5Px3TnvwNsUc",
        "outputId": "aec4a9b1-53e4-477e-9374-3fae9750624a"
      },
      "execution_count": 69,
      "outputs": [
        {
          "output_type": "stream",
          "name": "stderr",
          "text": [
            "<ipython-input-69-ba164af24b7e>:3: MatplotlibDeprecationWarning: Passing the emit parameter of set_ylim() positionally is deprecated since Matplotlib 3.6; the parameter will become keyword-only two minor releases later.\n",
            "  axes.set_ylim(3000,3700,200)\n"
          ]
        },
        {
          "output_type": "execute_result",
          "data": {
            "text/plain": [
              "<BarContainer object of 5 artists>"
            ]
          },
          "metadata": {},
          "execution_count": 69
        },
        {
          "output_type": "display_data",
          "data": {
            "text/plain": [
              "<Figure size 640x480 with 1 Axes>"
            ],
            "image/png": "[encoded data removed]"
          },
          "metadata": {}
        }
      ]
    },
    {
      "cell_type": "code",
      "source": [
        "C=df.groupby(['Mode_of_Shipment'])['Mode_of_Shipment'].count()\n",
        "print(C)\n",
        "C.plot(kind='bar')"
      ],
      "metadata": {
        "colab": {
          "base_uri": "https://localhost:8080/",
          "height": 578
        },
        "id": "-dZ8g3XXYIOz",
        "outputId": "2e7f35aa-995e-466f-908d-d9f069ebb174"
      },
      "execution_count": 83,
      "outputs": [
        {
          "output_type": "stream",
          "name": "stdout",
          "text": [
            "Mode_of_Shipment\n",
            "Flight    1777\n",
            "Road      1760\n",
            "Ship      7462\n",
            "Name: Mode_of_Shipment, dtype: int64\n"
          ]
        },
        {
          "output_type": "execute_result",
          "data": {
            "text/plain": [
              "<Axes: xlabel='Mode_of_Shipment'>"
            ]
          },
          "metadata": {},
          "execution_count": 83
        },
        {
          "output_type": "display_data",
          "data": {
            "text/plain": [
              "<Figure size 640x480 with 1 Axes>"
            ],
            "image/png": "[encoded data removed]"
          },
          "metadata": {}
        }
      ]
    },
    {
      "cell_type": "code",
      "source": [],
      "metadata": {
        "id": "feHlIevvbTha"
      },
      "execution_count": null,
      "outputs": []
    }
  ]
}