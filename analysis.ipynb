{
  "nbformat": 4,
  "nbformat_minor": 0,
  "metadata": {
    "colab": {
      "provenance": [],
      "authorship_tag": "ABX9TyMbd5BgdyweLeCqbBHJPLsp",
      "include_colab_link": true
    },
    "kernelspec": {
      "name": "python3",
      "display_name": "Python 3"
    },
    "language_info": {
      "name": "python"
    }
  },
  "cells": [
    {
      "cell_type": "markdown",
      "metadata": {
        "id": "view-in-github",
        "colab_type": "text"
      },
      "source": [
        "<a href=\"https://colab.research.google.com/github/njnr14/Python-analysis-project/blob/main/analysis.ipynb\" target=\"_parent\"><img src=\"https://colab.research.google.com/assets/colab-badge.svg\" alt=\"Open In Colab\"/></a>"
      ]
    },
    {
      "cell_type": "code",
      "execution_count": 1,
      "metadata": {
        "colab": {
          "base_uri": "https://localhost:8080/"
        },
        "id": "vuQu08-ZLStb",
        "outputId": "7f9400e5-6af9-4a44-8a8a-e134151f1c3a"
      },
      "outputs": [
        {
          "output_type": "stream",
          "name": "stdout",
          "text": [
            "Cloning into 'Python-analysis-project'...\n",
            "remote: Enumerating objects: 12, done.\u001b[K\n",
            "remote: Counting objects: 100% (12/12), done.\u001b[K\n",
            "remote: Compressing objects: 100% (10/10), done.\u001b[K\n",
            "remote: Total 12 (delta 2), reused 0 (delta 0), pack-reused 0\u001b[K\n",
            "Unpacking objects: 100% (12/12), 420.01 KiB | 6.00 MiB/s, done.\n"
          ]
        }
      ],
      "source": [
        "!git clone https://github.com/njnr14/Python-analysis-project.git"
      ]
    },
    {
      "cell_type": "code",
      "source": [
        "import numpy as np\n",
        "import pandas as pd\n",
        "import matplotlib.pyplot as plt\n",
        "import seaborn as sns\n",
        "\n",
        "path=\"/content/Python-analysis-project/Shipping-data.xlsx\"\n",
        "\n",
        "df=pd.read_excel(path)\n",
        "\n",
        "print(df.head(10))"
      ],
      "metadata": {
        "colab": {
          "base_uri": "https://localhost:8080/"
        },
        "id": "Q8Z4EvY8L3SO",
        "outputId": "24b33e56-b15a-48dc-d5dc-e6f8e62572ea"
      },
      "execution_count": 2,
      "outputs": [
        {
          "output_type": "stream",
          "name": "stdout",
          "text": [
            "   ID Warehouse_block Mode_of_Shipment  Customer_care_calls  Customer_rating  \\\n",
            "0   1               D           Flight                    4                2   \n",
            "1   2               F           Flight                    4                5   \n",
            "2   3               A           Flight                    2                2   \n",
            "3   4               B           Flight                    3                3   \n",
            "4   5               C           Flight                    2                2   \n",
            "5   6               F           Flight                    3                1   \n",
            "6   7               D           Flight                    3                4   \n",
            "7   8               F           Flight                    4                1   \n",
            "8   9               A           Flight                    3                4   \n",
            "9  10               B           Flight                    3                2   \n",
            "\n",
            "   Cost_of_the_Product  Prior_purchases Product_importance Gender  \\\n",
            "0                  177                3                low      F   \n",
            "1                  216                2                low      M   \n",
            "2                  183                4                low      M   \n",
            "3                  176                4             medium      M   \n",
            "4                  184                3             medium      F   \n",
            "5                  162                3             medium      F   \n",
            "6                  250                3                low      F   \n",
            "7                  233                2                low      F   \n",
            "8                  150                3                low      F   \n",
            "9                  164                3             medium      F   \n",
            "\n",
            "   Discount_offered  Weight_in_gms  Reached.on.Time_Y.N  \n",
            "0                44           1233                    1  \n",
            "1                59           3088                    1  \n",
            "2                48           3374                    1  \n",
            "3                10           1177                    1  \n",
            "4                46           2484                    1  \n",
            "5                12           1417                    1  \n",
            "6                 3           2371                    1  \n",
            "7                48           2804                    1  \n",
            "8                11           1861                    1  \n",
            "9                29           1187                    1  \n"
          ]
        }
      ]
    },
    {
      "cell_type": "code",
      "source": [
        "print(df.info())"
      ],
      "metadata": {
        "colab": {
          "base_uri": "https://localhost:8080/"
        },
        "id": "ICRj-13SM1jV",
        "outputId": "8270879f-533c-41ba-c5e5-c796aa88363b"
      },
      "execution_count": 3,
      "outputs": [
        {
          "output_type": "stream",
          "name": "stdout",
          "text": [
            "<class 'pandas.core.frame.DataFrame'>\n",
            "RangeIndex: 10999 entries, 0 to 10998\n",
            "Data columns (total 12 columns):\n",
            " #   Column               Non-Null Count  Dtype \n",
            "---  ------               --------------  ----- \n",
            " 0   ID                   10999 non-null  int64 \n",
            " 1   Warehouse_block      10999 non-null  object\n",
            " 2   Mode_of_Shipment     10999 non-null  object\n",
            " 3   Customer_care_calls  10999 non-null  int64 \n",
            " 4   Customer_rating      10999 non-null  int64 \n",
            " 5   Cost_of_the_Product  10999 non-null  int64 \n",
            " 6   Prior_purchases      10999 non-null  int64 \n",
            " 7   Product_importance   10999 non-null  object\n",
            " 8   Gender               10999 non-null  object\n",
            " 9   Discount_offered     10999 non-null  int64 \n",
            " 10  Weight_in_gms        10999 non-null  int64 \n",
            " 11  Reached.on.Time_Y.N  10999 non-null  int64 \n",
            "dtypes: int64(8), object(4)\n",
            "memory usage: 1.0+ MB\n",
            "None\n"
          ]
        }
      ]
    },
    {
      "cell_type": "code",
      "source": [
        "print(df.describe())"
      ],
      "metadata": {
        "colab": {
          "base_uri": "https://localhost:8080/"
        },
        "id": "zyDzX8bZM_5a",
        "outputId": "5a969efc-2b82-4c83-e08b-408a39ba00d3"
      },
      "execution_count": 4,
      "outputs": [
        {
          "output_type": "stream",
          "name": "stdout",
          "text": [
            "                ID  Customer_care_calls  Customer_rating  Cost_of_the_Product  \\\n",
            "count  10999.00000         10999.000000     10999.000000         10999.000000   \n",
            "mean    5500.00000             4.054459         2.990545           210.196836   \n",
            "std     3175.28214             1.141490         1.413603            48.063272   \n",
            "min        1.00000             2.000000         1.000000            96.000000   \n",
            "25%     2750.50000             3.000000         2.000000           169.000000   \n",
            "50%     5500.00000             4.000000         3.000000           214.000000   \n",
            "75%     8249.50000             5.000000         4.000000           251.000000   \n",
            "max    10999.00000             7.000000         5.000000           310.000000   \n",
            "\n",
            "       Prior_purchases  Discount_offered  Weight_in_gms  Reached.on.Time_Y.N  \n",
            "count     10999.000000      10999.000000   10999.000000         10999.000000  \n",
            "mean          3.567597         13.373216    3634.016729             0.596691  \n",
            "std           1.522860         16.205527    1635.377251             0.490584  \n",
            "min           2.000000          1.000000    1001.000000             0.000000  \n",
            "25%           3.000000          4.000000    1839.500000             0.000000  \n",
            "50%           3.000000          7.000000    4149.000000             1.000000  \n",
            "75%           4.000000         10.000000    5050.000000             1.000000  \n",
            "max          10.000000         65.000000    7846.000000             1.000000  \n"
          ]
        }
      ]
    },
    {
      "cell_type": "markdown",
      "source": [
        "## Average weight of each shipment from each warehouse "
      ],
      "metadata": {
        "id": "lUCqwM6aXlri"
      }
    },
    {
      "cell_type": "code",
      "source": [
        "avr_W=df.groupby(['Warehouse_block'])['Weight_in_gms'].mean()\n",
        "axes=plt.axes()\n",
        "print(avr_W)\n",
        "axes.set_ylim(3000,3700,200)\n",
        "plt.bar(df['Warehouse_block'].unique(),avr_W)\n"
      ],
      "metadata": {
        "colab": {
          "base_uri": "https://localhost:8080/",
          "height": 629
        },
        "id": "5Px3TnvwNsUc",
        "outputId": "3b82b48e-bcf3-4ace-b418-bcb19e338441"
      },
      "execution_count": 16,
      "outputs": [
        {
          "output_type": "stream",
          "name": "stdout",
          "text": [
            "Warehouse_block\n",
            "A    3615.448991\n",
            "B    3635.701037\n",
            "C    3641.331151\n",
            "D    3628.846783\n",
            "F    3641.387616\n",
            "Name: Weight_in_gms, dtype: float64\n"
          ]
        },
        {
          "output_type": "stream",
          "name": "stderr",
          "text": [
            "<ipython-input-16-36aec748dd94>:4: MatplotlibDeprecationWarning: Passing the emit parameter of set_ylim() positionally is deprecated since Matplotlib 3.6; the parameter will become keyword-only two minor releases later.\n",
            "  axes.set_ylim(3000,3700,200)\n"
          ]
        },
        {
          "output_type": "execute_result",
          "data": {
            "text/plain": [
              "<BarContainer object of 5 artists>"
            ]
          },
          "metadata": {},
          "execution_count": 16
        },
        {
          "output_type": "display_data",
          "data": {
            "text/plain": [
              "<Figure size 640x480 with 1 Axes>"
            ],
            "image/png": "[encoded data removed]"
          },
          "metadata": {}
        }
      ]
    },
    {
      "cell_type": "code",
      "source": [
        "test=df.groupby(['Warehouse_block'])['Warehouse_block'].count()\n",
        "\n",
        "test.plot(kind='bar',color='#f2c00a')\n",
        "plt.ylabel('Number of shipment')\n"
      ],
      "metadata": {
        "colab": {
          "base_uri": "https://localhost:8080/",
          "height": 463
        },
        "id": "NUip_kir8U-z",
        "outputId": "bafdd160-f858-4454-cdd3-13f134074c92"
      },
      "execution_count": 50,
      "outputs": [
        {
          "output_type": "execute_result",
          "data": {
            "text/plain": [
              "Text(0, 0.5, 'Number of shipment')"
            ]
          },
          "metadata": {},
          "execution_count": 50
        },
        {
          "output_type": "display_data",
          "data": {
            "text/plain": [
              "<Figure size 640x480 with 1 Axes>"
            ],
            "image/png": "[encoded data removed]"
          },
          "metadata": {}
        }
      ]
    },
    {
      "cell_type": "markdown",
      "source": [
        "## pie chart showing the percentages of shipment in different mode"
      ],
      "metadata": {
        "id": "Go0y54u2x5d1"
      }
    },
    {
      "cell_type": "code",
      "source": [
        "Shipment_mode=df.groupby(['Mode_of_Shipment'])['Mode_of_Shipment'].count()\n",
        "Shipment_mode.plot(kind='pie',autopct ='%1.1f%%',shadow = True,explode =(0,0.1,0.1),startangle = 0)"
      ],
      "metadata": {
        "colab": {
          "base_uri": "https://localhost:8080/",
          "height": 423
        },
        "id": "-dZ8g3XXYIOz",
        "outputId": "d9b28cd8-9f5b-4e83-d1c3-949f1e36a888"
      },
      "execution_count": 12,
      "outputs": [
        {
          "output_type": "execute_result",
          "data": {
            "text/plain": [
              "<Axes: ylabel='Mode_of_Shipment'>"
            ]
          },
          "metadata": {},
          "execution_count": 12
        },
        {
          "output_type": "display_data",
          "data": {
            "text/plain": [
              "<Figure size 640x480 with 1 Axes>"
            ],
            "image/png": "[encoded data removed]"
          },
          "metadata": {}
        }
      ]
    },
    {
      "cell_type": "markdown",
      "source": [
        "#weigth v/s cost\n"
      ],
      "metadata": {
        "id": "TEyZRg4Syrq6"
      }
    },
    {
      "cell_type": "code",
      "source": [],
      "metadata": {
        "colab": {
          "base_uri": "https://localhost:8080/",
          "height": 501
        },
        "id": "-n1HhnPjyrS9",
        "outputId": "40dfed77-bd88-4e9b-c3a3-aa6e55109115"
      },
      "execution_count": 51,
      "outputs": [
        {
          "output_type": "error",
          "ename": "KeyError",
          "evalue": "ignored",
          "traceback": [
            "\u001b[0;31m---------------------------------------------------------------------------\u001b[0m",
            "\u001b[0;31mKeyError\u001b[0m                                  Traceback (most recent call last)",
            "\u001b[0;32m/usr/local/lib/python3.9/dist-packages/pandas/core/indexes/base.py\u001b[0m in \u001b[0;36mget_loc\u001b[0;34m(self, key, method, tolerance)\u001b[0m\n\u001b[1;32m   3801\u001b[0m             \u001b[0;32mtry\u001b[0m\u001b[0;34m:\u001b[0m\u001b[0;34m\u001b[0m\u001b[0;34m\u001b[0m\u001b[0m\n\u001b[0;32m-> 3802\u001b[0;31m                 \u001b[0;32mreturn\u001b[0m \u001b[0mself\u001b[0m\u001b[0;34m.\u001b[0m\u001b[0m_engine\u001b[0m\u001b[0;34m.\u001b[0m\u001b[0mget_loc\u001b[0m\u001b[0;34m(\u001b[0m\u001b[0mcasted_key\u001b[0m\u001b[0;34m)\u001b[0m\u001b[0;34m\u001b[0m\u001b[0;34m\u001b[0m\u001b[0m\n\u001b[0m\u001b[1;32m   3803\u001b[0m             \u001b[0;32mexcept\u001b[0m \u001b[0mKeyError\u001b[0m \u001b[0;32mas\u001b[0m \u001b[0merr\u001b[0m\u001b[0;34m:\u001b[0m\u001b[0;34m\u001b[0m\u001b[0;34m\u001b[0m\u001b[0m\n",
            "\u001b[0;32m/usr/local/lib/python3.9/dist-packages/pandas/_libs/index.pyx\u001b[0m in \u001b[0;36mpandas._libs.index.IndexEngine.get_loc\u001b[0;34m()\u001b[0m\n",
            "\u001b[0;32m/usr/local/lib/python3.9/dist-packages/pandas/_libs/index.pyx\u001b[0m in \u001b[0;36mpandas._libs.index.IndexEngine.get_loc\u001b[0;34m()\u001b[0m\n",
            "\u001b[0;32mpandas/_libs/hashtable_class_helper.pxi\u001b[0m in \u001b[0;36mpandas._libs.hashtable.PyObjectHashTable.get_item\u001b[0;34m()\u001b[0m\n",
            "\u001b[0;32mpandas/_libs/hashtable_class_helper.pxi\u001b[0m in \u001b[0;36mpandas._libs.hashtable.PyObjectHashTable.get_item\u001b[0;34m()\u001b[0m\n",
            "\u001b[0;31mKeyError\u001b[0m: False",
            "\nThe above exception was the direct cause of the following exception:\n",
            "\u001b[0;31mKeyError\u001b[0m                                  Traceback (most recent call last)",
            "\u001b[0;32m<ipython-input-51-d9517124edbf>\u001b[0m in \u001b[0;36m<cell line: 1>\u001b[0;34m()\u001b[0m\n\u001b[0;32m----> 1\u001b[0;31m \u001b[0mW_C\u001b[0m\u001b[0;34m=\u001b[0m\u001b[0mdf\u001b[0m\u001b[0;34m[\u001b[0m\u001b[0;34m[\u001b[0m\u001b[0;34m'Weight_in_gms'\u001b[0m\u001b[0;34m,\u001b[0m\u001b[0;34m'Cost_of_the_Product'\u001b[0m\u001b[0;34m]\u001b[0m\u001b[0;34m]\u001b[0m\u001b[0;34m[\u001b[0m\u001b[0;34m'Warehouse_block'\u001b[0m\u001b[0;34m==\u001b[0m\u001b[0;34m'A'\u001b[0m\u001b[0;34m]\u001b[0m\u001b[0;34m\u001b[0m\u001b[0;34m\u001b[0m\u001b[0m\n\u001b[0m\u001b[1;32m      2\u001b[0m \u001b[0;34m\u001b[0m\u001b[0m\n\u001b[1;32m      3\u001b[0m \u001b[0mW_C\u001b[0m\u001b[0;34m.\u001b[0m\u001b[0msort_values\u001b[0m\u001b[0;34m(\u001b[0m\u001b[0mby\u001b[0m\u001b[0;34m=\u001b[0m\u001b[0;34m'Weight_in_gms'\u001b[0m\u001b[0;34m)\u001b[0m\u001b[0;34m\u001b[0m\u001b[0;34m\u001b[0m\u001b[0m\n",
            "\u001b[0;32m/usr/local/lib/python3.9/dist-packages/pandas/core/frame.py\u001b[0m in \u001b[0;36m__getitem__\u001b[0;34m(self, key)\u001b[0m\n\u001b[1;32m   3805\u001b[0m             \u001b[0;32mif\u001b[0m \u001b[0mself\u001b[0m\u001b[0;34m.\u001b[0m\u001b[0mcolumns\u001b[0m\u001b[0;34m.\u001b[0m\u001b[0mnlevels\u001b[0m \u001b[0;34m>\u001b[0m \u001b[0;36m1\u001b[0m\u001b[0;34m:\u001b[0m\u001b[0;34m\u001b[0m\u001b[0;34m\u001b[0m\u001b[0m\n\u001b[1;32m   3806\u001b[0m                 \u001b[0;32mreturn\u001b[0m \u001b[0mself\u001b[0m\u001b[0;34m.\u001b[0m\u001b[0m_getitem_multilevel\u001b[0m\u001b[0;34m(\u001b[0m\u001b[0mkey\u001b[0m\u001b[0;34m)\u001b[0m\u001b[0;34m\u001b[0m\u001b[0;34m\u001b[0m\u001b[0m\n\u001b[0;32m-> 3807\u001b[0;31m             \u001b[0mindexer\u001b[0m \u001b[0;34m=\u001b[0m \u001b[0mself\u001b[0m\u001b[0;34m.\u001b[0m\u001b[0mcolumns\u001b[0m\u001b[0;34m.\u001b[0m\u001b[0mget_loc\u001b[0m\u001b[0;34m(\u001b[0m\u001b[0mkey\u001b[0m\u001b[0;34m)\u001b[0m\u001b[0;34m\u001b[0m\u001b[0;34m\u001b[0m\u001b[0m\n\u001b[0m\u001b[1;32m   3808\u001b[0m             \u001b[0;32mif\u001b[0m \u001b[0mis_integer\u001b[0m\u001b[0;34m(\u001b[0m\u001b[0mindexer\u001b[0m\u001b[0;34m)\u001b[0m\u001b[0;34m:\u001b[0m\u001b[0;34m\u001b[0m\u001b[0;34m\u001b[0m\u001b[0m\n\u001b[1;32m   3809\u001b[0m                 \u001b[0mindexer\u001b[0m \u001b[0;34m=\u001b[0m \u001b[0;34m[\u001b[0m\u001b[0mindexer\u001b[0m\u001b[0;34m]\u001b[0m\u001b[0;34m\u001b[0m\u001b[0;34m\u001b[0m\u001b[0m\n",
            "\u001b[0;32m/usr/local/lib/python3.9/dist-packages/pandas/core/indexes/base.py\u001b[0m in \u001b[0;36mget_loc\u001b[0;34m(self, key, method, tolerance)\u001b[0m\n\u001b[1;32m   3802\u001b[0m                 \u001b[0;32mreturn\u001b[0m \u001b[0mself\u001b[0m\u001b[0;34m.\u001b[0m\u001b[0m_engine\u001b[0m\u001b[0;34m.\u001b[0m\u001b[0mget_loc\u001b[0m\u001b[0;34m(\u001b[0m\u001b[0mcasted_key\u001b[0m\u001b[0;34m)\u001b[0m\u001b[0;34m\u001b[0m\u001b[0;34m\u001b[0m\u001b[0m\n\u001b[1;32m   3803\u001b[0m             \u001b[0;32mexcept\u001b[0m \u001b[0mKeyError\u001b[0m \u001b[0;32mas\u001b[0m \u001b[0merr\u001b[0m\u001b[0;34m:\u001b[0m\u001b[0;34m\u001b[0m\u001b[0;34m\u001b[0m\u001b[0m\n\u001b[0;32m-> 3804\u001b[0;31m                 \u001b[0;32mraise\u001b[0m \u001b[0mKeyError\u001b[0m\u001b[0;34m(\u001b[0m\u001b[0mkey\u001b[0m\u001b[0;34m)\u001b[0m \u001b[0;32mfrom\u001b[0m \u001b[0merr\u001b[0m\u001b[0;34m\u001b[0m\u001b[0;34m\u001b[0m\u001b[0m\n\u001b[0m\u001b[1;32m   3805\u001b[0m             \u001b[0;32mexcept\u001b[0m \u001b[0mTypeError\u001b[0m\u001b[0;34m:\u001b[0m\u001b[0;34m\u001b[0m\u001b[0;34m\u001b[0m\u001b[0m\n\u001b[1;32m   3806\u001b[0m                 \u001b[0;31m# If we have a listlike key, _check_indexing_error will raise\u001b[0m\u001b[0;34m\u001b[0m\u001b[0;34m\u001b[0m\u001b[0m\n",
            "\u001b[0;31mKeyError\u001b[0m: False"
          ]
        }
      ]
    },
    {
      "cell_type": "code",
      "source": [
        "  df_A=df[df['Warehouse_block']=='A']\n",
        "  df_A"
      ],
      "metadata": {
        "colab": {
          "base_uri": "https://localhost:8080/",
          "height": 487
        },
        "id": "feHlIevvbTha",
        "outputId": "478e09d3-5159-4c8d-c1ae-528438a7db78"
      },
      "execution_count": 54,
      "outputs": [
        {
          "output_type": "execute_result",
          "data": {
            "text/plain": [
              "          ID Warehouse_block Mode_of_Shipment  Customer_care_calls  \\\n",
              "2          3               A           Flight                    2   \n",
              "8          9               A           Flight                    3   \n",
              "14        15               A           Flight                    4   \n",
              "20        21               A             Ship                    3   \n",
              "26        27               A             Ship                    4   \n",
              "...      ...             ...              ...                  ...   \n",
              "10970  10971               A           Flight                    4   \n",
              "10976  10977               A           Flight                    3   \n",
              "10982  10983               A             Ship                    5   \n",
              "10988  10989               A             Ship                    4   \n",
              "10994  10995               A             Ship                    4   \n",
              "\n",
              "       Customer_rating  Cost_of_the_Product  Prior_purchases  \\\n",
              "2                    2                  183                4   \n",
              "8                    4                  150                3   \n",
              "14                   3                  152                3   \n",
              "20                   3                  161                2   \n",
              "26                   1                  172                3   \n",
              "...                ...                  ...              ...   \n",
              "10970                4                  216                6   \n",
              "10976                2                  278                4   \n",
              "10982                1                  275                5   \n",
              "10988                3                  192                4   \n",
              "10994                1                  252                5   \n",
              "\n",
              "      Product_importance Gender  Discount_offered  Weight_in_gms  \\\n",
              "2                    low      M                48           3374   \n",
              "8                    low      F                11           1861   \n",
              "14                   low      M                43           1009   \n",
              "20                medium      F                38           1521   \n",
              "26                  high      F                24           1066   \n",
              "...                  ...    ...               ...            ...   \n",
              "10970                low      M                 5           1272   \n",
              "10976             medium      M                 9           1631   \n",
              "10982                low      M                 7           1623   \n",
              "10988                low      F                 2           1830   \n",
              "10994             medium      F                 1           1538   \n",
              "\n",
              "       Reached.on.Time_Y.N  \n",
              "2                        1  \n",
              "8                        1  \n",
              "14                       1  \n",
              "20                       1  \n",
              "26                       1  \n",
              "...                    ...  \n",
              "10970                    0  \n",
              "10976                    0  \n",
              "10982                    1  \n",
              "10988                    0  \n",
              "10994                    1  \n",
              "\n",
              "[1833 rows x 12 columns]"
            ],
            "text/html": [
              "\n",
              "  <div id=\"df-1b1df983-2511-413e-a66c-139363d223ed\">\n",
              "    <div class=\"colab-df-container\">\n",
              "      <div>\n",
              "<style scoped>\n",
              "    .dataframe tbody tr th:only-of-type {\n",
              "        vertical-align: middle;\n",
              "    }\n",
              "\n",
              "    .dataframe tbody tr th {\n",
              "        vertical-align: top;\n",
              "    }\n",
              "\n",
              "    .dataframe thead th {\n",
              "        text-align: right;\n",
              "    }\n",
              "</style>\n",
              "<table border=\"1\" class=\"dataframe\">\n",
              "  <thead>\n",
              "    <tr style=\"text-align: right;\">\n",
              "      <th></th>\n",
              "      <th>ID</th>\n",
              "      <th>Warehouse_block</th>\n",
              "      <th>Mode_of_Shipment</th>\n",
              "      <th>Customer_care_calls</th>\n",
              "      <th>Customer_rating</th>\n",
              "      <th>Cost_of_the_Product</th>\n",
              "      <th>Prior_purchases</th>\n",
              "      <th>Product_importance</th>\n",
              "      <th>Gender</th>\n",
              "      <th>Discount_offered</th>\n",
              "      <th>Weight_in_gms</th>\n",
              "      <th>Reached.on.Time_Y.N</th>\n",
              "    </tr>\n",
              "  </thead>\n",
              "  <tbody>\n",
              "    <tr>\n",
              "      <th>2</th>\n",
              "      <td>3</td>\n",
              "      <td>A</td>\n",
              "      <td>Flight</td>\n",
              "      <td>2</td>\n",
              "      <td>2</td>\n",
              "      <td>183</td>\n",
              "      <td>4</td>\n",
              "      <td>low</td>\n",
              "      <td>M</td>\n",
              "      <td>48</td>\n",
              "      <td>3374</td>\n",
              "      <td>1</td>\n",
              "    </tr>\n",
              "    <tr>\n",
              "      <th>8</th>\n",
              "      <td>9</td>\n",
              "      <td>A</td>\n",
              "      <td>Flight</td>\n",
              "      <td>3</td>\n",
              "      <td>4</td>\n",
              "      <td>150</td>\n",
              "      <td>3</td>\n",
              "      <td>low</td>\n",
              "      <td>F</td>\n",
              "      <td>11</td>\n",
              "      <td>1861</td>\n",
              "      <td>1</td>\n",
              "    </tr>\n",
              "    <tr>\n",
              "      <th>14</th>\n",
              "      <td>15</td>\n",
              "      <td>A</td>\n",
              "      <td>Flight</td>\n",
              "      <td>4</td>\n",
              "      <td>3</td>\n",
              "      <td>152</td>\n",
              "      <td>3</td>\n",
              "      <td>low</td>\n",
              "      <td>M</td>\n",
              "      <td>43</td>\n",
              "      <td>1009</td>\n",
              "      <td>1</td>\n",
              "    </tr>\n",
              "    <tr>\n",
              "      <th>20</th>\n",
              "      <td>21</td>\n",
              "      <td>A</td>\n",
              "      <td>Ship</td>\n",
              "      <td>3</td>\n",
              "      <td>3</td>\n",
              "      <td>161</td>\n",
              "      <td>2</td>\n",
              "      <td>medium</td>\n",
              "      <td>F</td>\n",
              "      <td>38</td>\n",
              "      <td>1521</td>\n",
              "      <td>1</td>\n",
              "    </tr>\n",
              "    <tr>\n",
              "      <th>26</th>\n",
              "      <td>27</td>\n",
              "      <td>A</td>\n",
              "      <td>Ship</td>\n",
              "      <td>4</td>\n",
              "      <td>1</td>\n",
              "      <td>172</td>\n",
              "      <td>3</td>\n",
              "      <td>high</td>\n",
              "      <td>F</td>\n",
              "      <td>24</td>\n",
              "      <td>1066</td>\n",
              "      <td>1</td>\n",
              "    </tr>\n",
              "    <tr>\n",
              "      <th>...</th>\n",
              "      <td>...</td>\n",
              "      <td>...</td>\n",
              "      <td>...</td>\n",
              "      <td>...</td>\n",
              "      <td>...</td>\n",
              "      <td>...</td>\n",
              "      <td>...</td>\n",
              "      <td>...</td>\n",
              "      <td>...</td>\n",
              "      <td>...</td>\n",
              "      <td>...</td>\n",
              "      <td>...</td>\n",
              "    </tr>\n",
              "    <tr>\n",
              "      <th>10970</th>\n",
              "      <td>10971</td>\n",
              "      <td>A</td>\n",
              "      <td>Flight</td>\n",
              "      <td>4</td>\n",
              "      <td>4</td>\n",
              "      <td>216</td>\n",
              "      <td>6</td>\n",
              "      <td>low</td>\n",
              "      <td>M</td>\n",
              "      <td>5</td>\n",
              "      <td>1272</td>\n",
              "      <td>0</td>\n",
              "    </tr>\n",
              "    <tr>\n",
              "      <th>10976</th>\n",
              "      <td>10977</td>\n",
              "      <td>A</td>\n",
              "      <td>Flight</td>\n",
              "      <td>3</td>\n",
              "      <td>2</td>\n",
              "      <td>278</td>\n",
              "      <td>4</td>\n",
              "      <td>medium</td>\n",
              "      <td>M</td>\n",
              "      <td>9</td>\n",
              "      <td>1631</td>\n",
              "      <td>0</td>\n",
              "    </tr>\n",
              "    <tr>\n",
              "      <th>10982</th>\n",
              "      <td>10983</td>\n",
              "      <td>A</td>\n",
              "      <td>Ship</td>\n",
              "      <td>5</td>\n",
              "      <td>1</td>\n",
              "      <td>275</td>\n",
              "      <td>5</td>\n",
              "      <td>low</td>\n",
              "      <td>M</td>\n",
              "      <td>7</td>\n",
              "      <td>1623</td>\n",
              "      <td>1</td>\n",
              "    </tr>\n",
              "    <tr>\n",
              "      <th>10988</th>\n",
              "      <td>10989</td>\n",
              "      <td>A</td>\n",
              "      <td>Ship</td>\n",
              "      <td>4</td>\n",
              "      <td>3</td>\n",
              "      <td>192</td>\n",
              "      <td>4</td>\n",
              "      <td>low</td>\n",
              "      <td>F</td>\n",
              "      <td>2</td>\n",
              "      <td>1830</td>\n",
              "      <td>0</td>\n",
              "    </tr>\n",
              "    <tr>\n",
              "      <th>10994</th>\n",
              "      <td>10995</td>\n",
              "      <td>A</td>\n",
              "      <td>Ship</td>\n",
              "      <td>4</td>\n",
              "      <td>1</td>\n",
              "      <td>252</td>\n",
              "      <td>5</td>\n",
              "      <td>medium</td>\n",
              "      <td>F</td>\n",
              "      <td>1</td>\n",
              "      <td>1538</td>\n",
              "      <td>1</td>\n",
              "    </tr>\n",
              "  </tbody>\n",
              "</table>\n",
              "<p>1833 rows × 12 columns</p>\n",
              "</div>\n",
              "      <button class=\"colab-df-convert\" onclick=\"convertToInteractive('df-1b1df983-2511-413e-a66c-139363d223ed')\"\n",
              "              title=\"Convert this dataframe to an interactive table.\"\n",
              "              style=\"display:none;\">\n",
              "        \n",
              "  <svg xmlns=\"http://www.w3.org/2000/svg\" height=\"24px\"viewBox=\"0 0 24 24\"\n",
              "       width=\"24px\">\n",
              "    <path d=\"M0 0h24v24H0V0z\" fill=\"none\"/>\n",
              "    <path d=\"M18.56 5.44l.94 2.06.94-2.06 2.06-.94-2.06-.94-.94-2.06-.94 2.06-2.06.94zm-11 1L8.5 8.5l.94-2.06 2.06-.94-2.06-.94L8.5 2.5l-.94 2.06-2.06.94zm10 10l.94 2.06.94-2.06 2.06-.94-2.06-.94-.94-2.06-.94 2.06-2.06.94z\"/><path d=\"M17.41 7.96l-1.37-1.37c-.4-.4-.92-.59-1.43-.59-.52 0-1.04.2-1.43.59L10.3 9.45l-7.72 7.72c-.78.78-.78 2.05 0 2.83L4 21.41c.39.39.9.59 1.41.59.51 0 1.02-.2 1.41-.59l7.78-7.78 2.81-2.81c.8-.78.8-2.07 0-2.86zM5.41 20L4 18.59l7.72-7.72 1.47 1.35L5.41 20z\"/>\n",
              "  </svg>\n",
              "      </button>\n",
              "      \n",
              "  <style>\n",
              "    .colab-df-container {\n",
              "      display:flex;\n",
              "      flex-wrap:wrap;\n",
              "      gap: 12px;\n",
              "    }\n",
              "\n",
              "    .colab-df-convert {\n",
              "      background-color: #E8F0FE;\n",
              "      border: none;\n",
              "      border-radius: 50%;\n",
              "      cursor: pointer;\n",
              "      display: none;\n",
              "      fill: #1967D2;\n",
              "      height: 32px;\n",
              "      padding: 0 0 0 0;\n",
              "      width: 32px;\n",
              "    }\n",
              "\n",
              "    .colab-df-convert:hover {\n",
              "      background-color: #E2EBFA;\n",
              "      box-shadow: 0px 1px 2px rgba(60, 64, 67, 0.3), 0px 1px 3px 1px rgba(60, 64, 67, 0.15);\n",
              "      fill: #174EA6;\n",
              "    }\n",
              "\n",
              "    [theme=dark] .colab-df-convert {\n",
              "      background-color: #3B4455;\n",
              "      fill: #D2E3FC;\n",
              "    }\n",
              "\n",
              "    [theme=dark] .colab-df-convert:hover {\n",
              "      background-color: #434B5C;\n",
              "      box-shadow: 0px 1px 3px 1px rgba(0, 0, 0, 0.15);\n",
              "      filter: drop-shadow(0px 1px 2px rgba(0, 0, 0, 0.3));\n",
              "      fill: #FFFFFF;\n",
              "    }\n",
              "  </style>\n",
              "\n",
              "      <script>\n",
              "        const buttonEl =\n",
              "          document.querySelector('#df-1b1df983-2511-413e-a66c-139363d223ed button.colab-df-convert');\n",
              "        buttonEl.style.display =\n",
              "          google.colab.kernel.accessAllowed ? 'block' : 'none';\n",
              "\n",
              "        async function convertToInteractive(key) {\n",
              "          const element = document.querySelector('#df-1b1df983-2511-413e-a66c-139363d223ed');\n",
              "          const dataTable =\n",
              "            await google.colab.kernel.invokeFunction('convertToInteractive',\n",
              "                                                     [key], {});\n",
              "          if (!dataTable) return;\n",
              "\n",
              "          const docLinkHtml = 'Like what you see? Visit the ' +\n",
              "            '<a target=\"_blank\" href=https://colab.research.google.com/notebooks/data_table.ipynb>data table notebook</a>'\n",
              "            + ' to learn more about interactive tables.';\n",
              "          element.innerHTML = '';\n",
              "          dataTable['output_type'] = 'display_data';\n",
              "          await google.colab.output.renderOutput(dataTable, element);\n",
              "          const docLink = document.createElement('div');\n",
              "          docLink.innerHTML = docLinkHtml;\n",
              "          element.appendChild(docLink);\n",
              "        }\n",
              "      </script>\n",
              "    </div>\n",
              "  </div>\n",
              "  "
            ]
          },
          "metadata": {},
          "execution_count": 54
        }
      ]
    }
  ]
}